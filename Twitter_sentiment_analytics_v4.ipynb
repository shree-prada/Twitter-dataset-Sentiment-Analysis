{
  "cells": [
    {
      "cell_type": "code",
      "execution_count": 57,
      "metadata": {
        "id": "3aJIxC1u0Ih9"
      },
      "outputs": [],
      "source": [
        "import snscrape.modules.twitter as snt\n",
        "import pandas as pd\n",
        "import re\n",
        "import emoji\n",
        "from datetime import date, datetime\n",
        "from collections import Counter\n",
        "import nltk"
      ]
    },
    {
      "cell_type": "code",
      "execution_count": 58,
      "metadata": {
        "colab": {
          "base_uri": "https://localhost:8080/"
        },
        "id": "_wqQV6W30nF_",
        "outputId": "15b0a743-b64b-404c-882b-98fe2ffa1b6e"
      },
      "outputs": [
        {
          "name": "stdout",
          "output_type": "stream",
          "text": [
            "   Unnamed: 0                                                url  \\\n",
            "0           0  https://twitter.com/gand_oliver/status/1648233...   \n",
            "1           1  https://twitter.com/MirrorF1/status/1648233870...   \n",
            "2           2  https://twitter.com/MotorsportWeek/status/1648...   \n",
            "3           3  https://twitter.com/f1reader/status/1648233423...   \n",
            "4           4  https://twitter.com/Racingnews365C/status/1648...   \n",
            "\n",
            "                        date            id  \\\n",
            "0  2023-04-18 07:56:10+00:00  1.650000e+18   \n",
            "1  2023-04-18 07:55:52+00:00  1.650000e+18   \n",
            "2  2023-04-18 07:54:56+00:00  1.650000e+18   \n",
            "3  2023-04-18 07:54:05+00:00  1.650000e+18   \n",
            "4  2023-04-18 07:53:56+00:00  1.650000e+18   \n",
            "\n",
            "                                                user  replyCount  \\\n",
            "0  {'username': 'gand_oliver', 'id': 753267774017...           0   \n",
            "1  {'username': 'MirrorF1', 'id': 113622858, 'dis...           2   \n",
            "2  {'username': 'MotorsportWeek', 'id': 27343080,...           0   \n",
            "3  {'username': 'f1reader', 'id': 230440523, 'dis...           0   \n",
            "4  {'username': 'Racingnews365C', 'id': 135924493...           0   \n",
            "\n",
            "   retweetCount  likeCount  quoteCount lang            sourceLabel  \\\n",
            "0             0          0           0   en  Blog2Tweet Automation   \n",
            "1             2          1           0   en              TweetDeck   \n",
            "2             0          1           0   en         MotorsportWeek   \n",
            "3             0          0           0   en               F1reader   \n",
            "4             2          1           0   en                 Buffer   \n",
            "\n",
            "   retweetedTweet quotedTweet                        hashtags  viewCount  \\\n",
            "0             NaN         NaN            ['f1', 'automotive']          1   \n",
            "1             NaN         NaN                          ['F1']        176   \n",
            "2             NaN         NaN  ['Audi', 'AutoShanghai', 'F1']         65   \n",
            "3             NaN         NaN                ['F1', 'Sauber']          1   \n",
            "4             NaN         NaN      ['F1', 'F1News', 'F12023']         37   \n",
            "\n",
            "                                     renderedContent  \n",
            "0  5 Times F1 Drivers Shocked The World By Switch...  \n",
            "1  A clash between the Red Bull and Ferrari bosse...  \n",
            "2  Audi provides F1 project update at Auto Shangh...  \n",
            "3  Audi provides F1 project update at Auto Shangh...  \n",
            "4  👀 Audi's preparations ahead of its F1 entry in...  \n"
          ]
        }
      ],
      "source": [
        "#Reading twitter dataset file for preprocessing\n",
        "\n",
        "final=pd.read_csv(\"final.csv\")\n",
        "print(final.head(5))"
      ]
    },
    {
      "cell_type": "code",
      "execution_count": 59,
      "metadata": {
        "id": "Cvx9vEdo1pDM"
      },
      "outputs": [],
      "source": [
        "#replacing \"\" with NA in retweetedTweets and quotedTweets columns\n",
        "final.fillna({\"retweetedTweet\": \"NA\", \"quotedTweet\": \"NA\"}, inplace=True)"
      ]
    },
    {
      "cell_type": "code",
      "execution_count": 60,
      "metadata": {
        "colab": {
          "base_uri": "https://localhost:8080/"
        },
        "id": "0LKCywjr1uU3",
        "outputId": "ac6ee768-ba26-45d1-c332-aa29eedf70bb"
      },
      "outputs": [
        {
          "name": "stderr",
          "output_type": "stream",
          "text": [
            "[nltk_data] Downloading package punkt to\n",
            "[nltk_data]     C:\\Users\\LENOVO\\AppData\\Roaming\\nltk_data...\n",
            "[nltk_data]   Package punkt is already up-to-date!\n",
            "[nltk_data] Downloading package stopwords to\n",
            "[nltk_data]     C:\\Users\\LENOVO\\AppData\\Roaming\\nltk_data...\n",
            "[nltk_data]   Package stopwords is already up-to-date!\n",
            "[nltk_data] Downloading package wordnet to\n",
            "[nltk_data]     C:\\Users\\LENOVO\\AppData\\Roaming\\nltk_data...\n",
            "[nltk_data]   Package wordnet is already up-to-date!\n",
            "[nltk_data] Downloading package vader_lexicon to\n",
            "[nltk_data]     C:\\Users\\LENOVO\\AppData\\Roaming\\nltk_data...\n",
            "[nltk_data]   Package vader_lexicon is already up-to-date!\n"
          ]
        }
      ],
      "source": [
        "from nltk.tokenize import word_tokenize\n",
        "from nltk.corpus import stopwords\n",
        "from nltk.stem import PorterStemmer, WordNetLemmatizer\n",
        "from sklearn.feature_extraction.text import TfidfVectorizer\n",
        "from nltk.sentiment.vader import SentimentIntensityAnalyzer\n",
        "nltk.download('punkt')\n",
        "nltk.download('stopwords')\n",
        "nltk.download('wordnet')\n",
        "nltk.download('vader_lexicon')\n",
        "\n",
        "TwtwithoutAT=[]\n",
        "sentimentScore=[]\n",
        "lemm_tokens=[]\n",
        "tfidf_matrices=[]\n",
        "for tweets in final[['renderedContent'][0]]:\n",
        "    #removing @\n",
        "    tweets = re.sub(\"@+\",\"\",tweets) #@[A-Za-z0-9]+\n",
        "    #removing hyperlinks\n",
        "    tweets = re.sub(\"(?:\\\\@|http?\\\\://|https?\\\\://|www)\\\\S+\",\"\",tweets)\n",
        "    #replacing # and _\n",
        "    tweets = tweets.replace(\"#\", \"\").replace(\"_\", \" \")\n",
        "    #removing/replacing emojis\n",
        "    tweets = emoji.replace_emoji(tweets,\"\")\n",
        "    #removing spaces from start and end\n",
        "    tweets = re.sub(r'\\n','', tweets).strip()\n",
        "    # Replace Unicode characters in the 'tweets' variable\n",
        "    tweets = tweets.replace(\"\\u2019\", \"'\")\n",
        "    tweets = tweets.replace(\"\\u2018\", \"'\")\n",
        "    tweets = tweets.replace(\"\\u2026\", \"...\")\n",
        "    tweets = tweets.replace(\"\\u2013\", \"-\")\n",
        "    tweets = tweets.replace(\"\\u201c\", \"\\\"\")\n",
        "    tweets = tweets.replace(\"\\u201d\", \"\\\"\")\n",
        "\n",
        "    text = tweets\n",
        "\n",
        "  # Tokenization\n",
        "    tokens = word_tokenize(text)\n",
        "\n",
        "  # Stop words removal\n",
        "    stop_words = set(stopwords.words('english'))\n",
        "    filtered_tokens = [token for token in tokens if token.lower() not in stop_words]\n",
        "\n",
        "    # Stemming\n",
        "    stemmer = PorterStemmer()\n",
        "    stemmed_tokens = [stemmer.stem(token) for token in filtered_tokens]\n",
        "\n",
        "    # Lemmatization\n",
        "    lemmatizer = WordNetLemmatizer()\n",
        "    lemmatized_tokens = [lemmatizer.lemmatize(token) for token in stemmed_tokens]\n",
        "\n",
        "    # TF-IDF\n",
        "    documents = [\" \".join(lemmatized_tokens)]  # Creating a single document for simplicity\n",
        "    tfidf_vectorizer = TfidfVectorizer()\n",
        "    tfidf_matrix = tfidf_vectorizer.fit_transform(documents)\n",
        "\n",
        "    #Appending the final output to the lists\n",
        "    lemm_tokens.append(lemmatized_tokens)\n",
        "    tfidf_matrices.append(tfidf_matrix)\n",
        "    TwtwithoutAT.append(text)\n",
        "\n",
        "    # Sentiment Analysis\n",
        "    analyzer = SentimentIntensityAnalyzer()\n",
        "    sentimentScore.append(analyzer.polarity_scores(text))"
      ]
    },
    {
      "cell_type": "code",
      "execution_count": 61,
      "metadata": {
        "id": "H2iBcuQ-7537"
      },
      "outputs": [],
      "source": [
        "#determining Sentiment values in categorical form\n",
        "\n",
        "SentimentVal=[]\n",
        "\n",
        "for i in sentimentScore:\n",
        "    if i[\"compound\"]>0:\n",
        "        SentimentVal.append(\"Positive\")\n",
        "    elif i[\"compound\"]<0:\n",
        "        SentimentVal.append(\"Negative\")\n",
        "    else:\n",
        "        SentimentVal.append(\"Neutral\")"
      ]
    },
    {
      "cell_type": "code",
      "execution_count": 62,
      "metadata": {
        "id": "Iv2WmfX277eA"
      },
      "outputs": [],
      "source": [
        "final['RefinedContent']=TwtwithoutAT\n",
        "final['lemmatized_tokens']=lemm_tokens\n",
        "final['tfidf_matrix']=tfidf_matrices\n",
        "final['SentimentValue']=SentimentVal"
      ]
    },
    {
      "cell_type": "code",
      "execution_count": 63,
      "metadata": {
        "id": "-LY8os088M0L"
      },
      "outputs": [],
      "source": [
        "final.to_csv(\"Twt_Refined_Final.csv\")"
      ]
    },
    {
      "cell_type": "markdown",
      "metadata": {},
      "source": [
        "further preprocessing for model building starts here"
      ]
    },
    {
      "cell_type": "code",
      "execution_count": 64,
      "metadata": {},
      "outputs": [],
      "source": [
        "# Load the CSV file into the DataFrame\n",
        "twtdata = pd.read_csv(\"Twt_Refined_Final.csv\")"
      ]
    },
    {
      "cell_type": "code",
      "execution_count": 65,
      "metadata": {},
      "outputs": [
        {
          "name": "stdout",
          "output_type": "stream",
          "text": [
            "The data type of column 'Unnamed: 0.1' is int64.\n",
            "The data type of column 'Unnamed: 0' is int64.\n",
            "The data type of column 'url' is object.\n",
            "The data type of column 'date' is object.\n",
            "The data type of column 'id' is float64.\n",
            "The data type of column 'user' is object.\n",
            "The data type of column 'replyCount' is int64.\n",
            "The data type of column 'retweetCount' is int64.\n",
            "The data type of column 'likeCount' is int64.\n",
            "The data type of column 'quoteCount' is int64.\n",
            "The data type of column 'lang' is object.\n",
            "The data type of column 'sourceLabel' is object.\n",
            "The data type of column 'retweetedTweet' is float64.\n",
            "The data type of column 'quotedTweet' is object.\n",
            "The data type of column 'hashtags' is object.\n",
            "The data type of column 'viewCount' is int64.\n",
            "The data type of column 'renderedContent' is object.\n",
            "The data type of column 'RefinedContent' is object.\n",
            "The data type of column 'lemmatized_tokens' is object.\n",
            "The data type of column 'tfidf_matrix' is object.\n",
            "The data type of column 'SentimentValue' is object.\n"
          ]
        }
      ],
      "source": [
        "#checking feature types before converting\n",
        "for col in twtdata.columns:\n",
        "    data_type = twtdata[col].dtype\n",
        "    print(f\"The data type of column '{col}' is {data_type}.\")"
      ]
    },
    {
      "cell_type": "code",
      "execution_count": 66,
      "metadata": {},
      "outputs": [
        {
          "name": "stdout",
          "output_type": "stream",
          "text": [
            "Index(['url', 'date', 'id', 'user', 'replyCount', 'retweetCount', 'likeCount',\n",
            "       'quoteCount', 'lang', 'sourceLabel', 'quotedTweet', 'hashtags',\n",
            "       'viewCount', 'renderedContent', 'RefinedContent', 'lemmatized_tokens',\n",
            "       'tfidf_matrix', 'SentimentValue'],\n",
            "      dtype='object')\n",
            "The data type of column 'url' is string.\n",
            "The data type of column 'date' is string.\n",
            "The data type of column 'id' is float64.\n",
            "The data type of column 'user' is string.\n",
            "The data type of column 'replyCount' is int64.\n",
            "The data type of column 'retweetCount' is int64.\n",
            "The data type of column 'likeCount' is int64.\n",
            "The data type of column 'quoteCount' is int64.\n",
            "The data type of column 'lang' is string.\n",
            "The data type of column 'sourceLabel' is string.\n",
            "The data type of column 'quotedTweet' is string.\n",
            "The data type of column 'hashtags' is string.\n",
            "The data type of column 'viewCount' is int64.\n",
            "The data type of column 'renderedContent' is string.\n",
            "The data type of column 'RefinedContent' is string.\n",
            "The data type of column 'lemmatized_tokens' is string.\n",
            "The data type of column 'tfidf_matrix' is string.\n",
            "The data type of column 'SentimentValue' is string.\n"
          ]
        }
      ],
      "source": [
        "#dropping unnamed columns and 'retweetedTweet' as it's NA\n",
        "twtdata=twtdata.drop(columns=['Unnamed: 0.1','Unnamed: 0','retweetedTweet'])\n",
        "print(twtdata.columns)\n",
        "\n",
        "#converting types for features\n",
        "twtdata['lang']=twtdata['lang'].astype(pd.StringDtype())\n",
        "twtdata['sourceLabel']=twtdata['sourceLabel'].astype(pd.StringDtype())\n",
        "twtdata['quotedTweet']=twtdata['quotedTweet'].astype(pd.StringDtype())\n",
        "twtdata['renderedContent']=twtdata['renderedContent'].astype(pd.StringDtype())\n",
        "twtdata['RefinedContent']=twtdata['RefinedContent'].astype(pd.StringDtype())\n",
        "twtdata['SentimentValue']=twtdata['SentimentValue'].astype(pd.StringDtype())\n",
        "twtdata['url']=twtdata['url'].astype(pd.StringDtype())\n",
        "twtdata['date']=twtdata['date'].astype(pd.StringDtype())\n",
        "twtdata['user']=twtdata['user'].astype(pd.StringDtype())\n",
        "twtdata['hashtags']=twtdata['hashtags'].astype(pd.StringDtype())\n",
        "twtdata['lemmatized_tokens']=twtdata['lemmatized_tokens'].astype(pd.StringDtype())\n",
        "twtdata['tfidf_matrix']=twtdata['tfidf_matrix'].astype(pd.StringDtype())\n",
        "\n",
        "#checking feature types after converting\n",
        "for col in twtdata.columns:\n",
        "    data_type = twtdata[col].dtype\n",
        "    print(f\"The data type of column '{col}' is {data_type}.\")"
      ]
    },
    {
      "cell_type": "code",
      "execution_count": 67,
      "metadata": {
        "colab": {
          "base_uri": "https://localhost:8080/"
        },
        "id": "8VO4vS8r9hs3",
        "outputId": "3f8e44d6-7368-4d0b-808c-e2b27bf98f2c"
      },
      "outputs": [
        {
          "name": "stdout",
          "output_type": "stream",
          "text": [
            "Numerical Columns:\n",
            "['id', 'replyCount', 'retweetCount', 'likeCount', 'quoteCount', 'viewCount']\n",
            "\n",
            "Categorical Columns:\n",
            "['url', 'date', 'user', 'lang', 'sourceLabel', 'quotedTweet', 'hashtags', 'renderedContent', 'RefinedContent', 'lemmatized_tokens', 'tfidf_matrix', 'SentimentValue']\n"
          ]
        }
      ],
      "source": [
        "# Separate numerical and categorical columns\n",
        "numerical_cols = twtdata.select_dtypes(include=['float64','int64']).columns.tolist()\n",
        "categorical_cols = twtdata.select_dtypes(include=['object','string']).columns.tolist()\n",
        "\n",
        "print(\"Numerical Columns:\")\n",
        "print(numerical_cols)\n",
        "\n",
        "print(\"\\nCategorical Columns:\")\n",
        "print(categorical_cols)\n",
        "\n"
      ]
    },
    {
      "cell_type": "code",
      "execution_count": 68,
      "metadata": {
        "id": "OAJZT8qq9loT"
      },
      "outputs": [],
      "source": [
        "# Detect and handle outliers using IQR\n",
        "for col in numerical_cols:\n",
        "    if col != 'id':  # Exclude 'id' column\n",
        "        Q1 = twtdata[col].quantile(0.25)\n",
        "        Q3 = twtdata[col].quantile(0.75)\n",
        "        IQR = Q3 - Q1\n",
        "        lower_bound = Q1 - 1.5 * IQR\n",
        "        upper_bound = Q3 + 1.5 * IQR\n",
        "        twtdata[col] = twtdata[col].apply(lambda x: max(lower_bound, min(upper_bound, x)))"
      ]
    },
    {
      "cell_type": "code",
      "execution_count": 69,
      "metadata": {
        "id": "Q9o5KmGWFHct"
      },
      "outputs": [
        {
          "data": {
            "image/png": "[encoded data removed]",
            "text/plain": [
              "<Figure size 1000x800 with 2 Axes>"
            ]
          },
          "metadata": {},
          "output_type": "display_data"
        }
      ],
      "source": [
        "import seaborn as sns\n",
        "import matplotlib.pyplot as plt\n",
        "\n",
        "# Remove 'id' column from numerical_cols\n",
        "numerical_cols = [col for col in numerical_cols if col != 'id']\n",
        "\n",
        "# Calculate the correlation matrix\n",
        "correlation_matrix = twtdata[numerical_cols].corr()\n",
        "\n",
        "# Create a heatmap\n",
        "plt.figure(figsize=(10, 8))  # Adjust the figure size if needed\n",
        "sns.heatmap(correlation_matrix, annot=True, cmap='coolwarm', fmt=\".2f\")\n",
        "plt.title(\"Correlation Heatmap for Tweets\")\n",
        "plt.show()\n"
      ]
    },
    {
      "cell_type": "code",
      "execution_count": 70,
      "metadata": {
        "id": "vJQyvelKF6An"
      },
      "outputs": [
        {
          "name": "stdout",
          "output_type": "stream",
          "text": [
            "['lang', 'sourceLabel', 'SentimentValue']\n",
            "Index(['url', 'date', 'id', 'user', 'replyCount', 'retweetCount', 'likeCount',\n",
            "       'quoteCount', 'quotedTweet', 'hashtags', 'viewCount', 'renderedContent',\n",
            "       'RefinedContent', 'lemmatized_tokens', 'tfidf_matrix', 'lang_en',\n",
            "       'sourceLabel_Blog2Tweet Automation', 'sourceLabel_Buffer',\n",
            "       'sourceLabel_EFLFootballNews', 'sourceLabel_EnglandNationalTeamNews',\n",
            "       'sourceLabel_EveryoneSocial', 'sourceLabel_F1reader',\n",
            "       'sourceLabel_FS-Poster-App', 'sourceLabel_IFTTT',\n",
            "       'sourceLabel_MotorsportWeek', 'sourceLabel_OverheardThePit',\n",
            "       'sourceLabel_Powered by Sprinklr', 'sourceLabel_Radio King LiveTweet',\n",
            "       'sourceLabel_Revive Social App', 'sourceLabel_SocialBee',\n",
            "       'sourceLabel_Sprout Social', 'sourceLabel_TweetDeck',\n",
            "       'sourceLabel_TweetDeck Web App', 'sourceLabel_Twitter Ads',\n",
            "       'sourceLabel_Twitter Web App', 'sourceLabel_Twitter for Android',\n",
            "       'sourceLabel_Twitter for iPad', 'sourceLabel_Twitter for iPhone',\n",
            "       'sourceLabel_Zapier.com', 'sourceLabel_dlvr.it',\n",
            "       'SentimentValue_Negative', 'SentimentValue_Neutral',\n",
            "       'SentimentValue_Positive'],\n",
            "      dtype='object')\n"
          ]
        }
      ],
      "source": [
        "# Remove columns from categorical_cols\n",
        "categorical_cols = [col for col in categorical_cols if col not in ['url', 'date', 'user', 'quotedTweet', 'hashtags', 'renderedContent', 'RefinedContent', 'lemmatized_tokens', 'tfidf_matrix']]\n",
        "# Print the remaining categorical columns\n",
        "print(categorical_cols)\n",
        "# Perform one-hot encoding\n",
        "encoded_df = pd.get_dummies(twtdata, columns=categorical_cols)\n",
        "print(encoded_df.columns)"
      ]
    },
    {
      "cell_type": "code",
      "execution_count": 71,
      "metadata": {},
      "outputs": [
        {
          "name": "stdout",
          "output_type": "stream",
          "text": [
            "['replyCount', 'retweetCount', 'likeCount', 'quoteCount', 'viewCount', 'lang_en', 'sourceLabel_Blog2Tweet Automation', 'sourceLabel_Buffer', 'sourceLabel_EFLFootballNews', 'sourceLabel_EnglandNationalTeamNews', 'sourceLabel_EveryoneSocial', 'sourceLabel_F1reader', 'sourceLabel_FS-Poster-App', 'sourceLabel_IFTTT', 'sourceLabel_MotorsportWeek', 'sourceLabel_OverheardThePit', 'sourceLabel_Powered by Sprinklr', 'sourceLabel_Radio King LiveTweet', 'sourceLabel_Revive Social App', 'sourceLabel_SocialBee', 'sourceLabel_Sprout Social', 'sourceLabel_TweetDeck', 'sourceLabel_TweetDeck Web App', 'sourceLabel_Twitter Ads', 'sourceLabel_Twitter Web App', 'sourceLabel_Twitter for Android', 'sourceLabel_Twitter for iPad', 'sourceLabel_Twitter for iPhone', 'sourceLabel_Zapier.com', 'sourceLabel_dlvr.it', 'SentimentValue_Negative', 'SentimentValue_Neutral', 'SentimentValue_Positive']\n"
          ]
        }
      ],
      "source": [
        "#only taking numericals columns after we OH encoded\n",
        "numcols = [col for col in encoded_df.columns if col not in ['id','url', 'date', 'user', 'quotedTweet', 'hashtags', 'renderedContent', 'RefinedContent', 'lemmatized_tokens', 'tfidf_matrix']]\n",
        "print(numcols)"
      ]
    },
    {
      "cell_type": "markdown",
      "metadata": {},
      "source": [
        "Data Scaling starts here"
      ]
    },
    {
      "cell_type": "code",
      "execution_count": 72,
      "metadata": {
        "id": "Sb0jhr6fH5BR"
      },
      "outputs": [],
      "source": [
        "from sklearn.preprocessing import StandardScaler\n",
        "\n",
        "# Create a DataFrame to store scaled values\n",
        "scaled_df = encoded_df.copy()\n",
        "\n",
        "# Perform scaling on the columns_to_process\n",
        "scaler = StandardScaler()\n",
        "\n",
        "# Fit the scaler on the selected columns and transform the data\n",
        "scaled_values = scaler.fit_transform(encoded_df[numcols])\n",
        "\n",
        "# Update the scaled values in the scaled_df DataFrame\n",
        "scaled_df[numcols] = scaled_values"
      ]
    },
    {
      "cell_type": "markdown",
      "metadata": {},
      "source": [
        "Data normalization starts here"
      ]
    },
    {
      "cell_type": "code",
      "execution_count": 73,
      "metadata": {},
      "outputs": [],
      "source": [
        "from sklearn.preprocessing import MinMaxScaler\n",
        "\n",
        "# Create a DataFrame to store normalized values\n",
        "normalized_df = scaled_df.copy()\n",
        "\n",
        "# Perform normalization on the numcols\n",
        "scaler = MinMaxScaler()\n",
        "\n",
        "# Fit the scaler on the selected columns and transform the data\n",
        "normalized_values = scaler.fit_transform(scaled_df[numcols])\n",
        "\n",
        "# Update the normalized values in the normalized_df DataFrame\n",
        "normalized_df[numcols] = normalized_values"
      ]
    },
    {
      "cell_type": "markdown",
      "metadata": {},
      "source": [
        "Dimensionality reduction starts here using PCA (Pricipal Component Analysis)"
      ]
    },
    {
      "cell_type": "code",
      "execution_count": 74,
      "metadata": {},
      "outputs": [
        {
          "name": "stdout",
          "output_type": "stream",
          "text": [
            "Number of components needed for 87% explained variance: 8\n"
          ]
        }
      ],
      "source": [
        "from sklearn.decomposition import PCA\n",
        "\n",
        "# Initialize PCA\n",
        "pca = PCA()\n",
        "\n",
        "# Fit PCA on the normalized data\n",
        "pca.fit(normalized_df[numcols])\n",
        "\n",
        "# Calculate cumulative explained variance ratio\n",
        "explained_variance_ratio_cumulative = pca.explained_variance_ratio_.cumsum()\n",
        "\n",
        "# Determine the number of components needed for a desired explained variance threshold\n",
        "desired_explained_variance = 0.87  #desired threshold [high info retention-[0.95 or above], balanced-[0.85-0.90], aggresive DR-[0.70-0.80]]\n",
        "n_components = next(i for i, ratio in enumerate(explained_variance_ratio_cumulative, start=1) if ratio >= desired_explained_variance)\n",
        "\n",
        "print(f\"Number of components needed for {desired_explained_variance:.0%} explained variance: {n_components}\")"
      ]
    },
    {
      "cell_type": "markdown",
      "metadata": {},
      "source": [
        "so we will take 8 as n_components"
      ]
    },
    {
      "cell_type": "code",
      "execution_count": 75,
      "metadata": {},
      "outputs": [
        {
          "name": "stdout",
          "output_type": "stream",
          "text": [
            "Column 'url' has data type: string\n",
            "Column 'date' has data type: string\n",
            "Column 'id' has data type: float64\n",
            "Column 'user' has data type: string\n",
            "Column 'replyCount' has data type: float64\n",
            "Column 'retweetCount' has data type: float64\n",
            "Column 'likeCount' has data type: float64\n",
            "Column 'quoteCount' has data type: float64\n",
            "Column 'quotedTweet' has data type: string\n",
            "Column 'hashtags' has data type: string\n",
            "Column 'viewCount' has data type: float64\n",
            "Column 'renderedContent' has data type: string\n",
            "Column 'RefinedContent' has data type: string\n",
            "Column 'lemmatized_tokens' has data type: string\n",
            "Column 'tfidf_matrix' has data type: string\n",
            "Column 'lang_en' has data type: float64\n",
            "Column 'sourceLabel_Blog2Tweet Automation' has data type: float64\n",
            "Column 'sourceLabel_Buffer' has data type: float64\n",
            "Column 'sourceLabel_EFLFootballNews' has data type: float64\n",
            "Column 'sourceLabel_EnglandNationalTeamNews' has data type: float64\n",
            "Column 'sourceLabel_EveryoneSocial' has data type: float64\n",
            "Column 'sourceLabel_F1reader' has data type: float64\n",
            "Column 'sourceLabel_FS-Poster-App' has data type: float64\n",
            "Column 'sourceLabel_IFTTT' has data type: float64\n",
            "Column 'sourceLabel_MotorsportWeek' has data type: float64\n",
            "Column 'sourceLabel_OverheardThePit' has data type: float64\n",
            "Column 'sourceLabel_Powered by Sprinklr' has data type: float64\n",
            "Column 'sourceLabel_Radio King LiveTweet' has data type: float64\n",
            "Column 'sourceLabel_Revive Social App' has data type: float64\n",
            "Column 'sourceLabel_SocialBee' has data type: float64\n",
            "Column 'sourceLabel_Sprout Social' has data type: float64\n",
            "Column 'sourceLabel_TweetDeck' has data type: float64\n",
            "Column 'sourceLabel_TweetDeck Web App' has data type: float64\n",
            "Column 'sourceLabel_Twitter Ads' has data type: float64\n",
            "Column 'sourceLabel_Twitter Web App' has data type: float64\n",
            "Column 'sourceLabel_Twitter for Android' has data type: float64\n",
            "Column 'sourceLabel_Twitter for iPad' has data type: float64\n",
            "Column 'sourceLabel_Twitter for iPhone' has data type: float64\n",
            "Column 'sourceLabel_Zapier.com' has data type: float64\n",
            "Column 'sourceLabel_dlvr.it' has data type: float64\n",
            "Column 'SentimentValue_Negative' has data type: float64\n",
            "Column 'SentimentValue_Neutral' has data type: float64\n",
            "Column 'SentimentValue_Positive' has data type: float64\n",
            "url, Number of Missing Values: 0\n",
            "date, Number of Missing Values: 0\n",
            "id, Number of Missing Values: 0\n",
            "user, Number of Missing Values: 0\n",
            "replyCount, Number of Missing Values: 0\n",
            "retweetCount, Number of Missing Values: 0\n",
            "likeCount, Number of Missing Values: 0\n",
            "quoteCount, Number of Missing Values: 0\n",
            "quotedTweet, Number of Missing Values: 299\n",
            "hashtags, Number of Missing Values: 0\n",
            "viewCount, Number of Missing Values: 0\n",
            "renderedContent, Number of Missing Values: 0\n",
            "RefinedContent, Number of Missing Values: 0\n",
            "lemmatized_tokens, Number of Missing Values: 0\n",
            "tfidf_matrix, Number of Missing Values: 0\n",
            "lang_en, Number of Missing Values: 0\n",
            "sourceLabel_Blog2Tweet Automation, Number of Missing Values: 0\n",
            "sourceLabel_Buffer, Number of Missing Values: 0\n",
            "sourceLabel_EFLFootballNews, Number of Missing Values: 0\n",
            "sourceLabel_EnglandNationalTeamNews, Number of Missing Values: 0\n",
            "sourceLabel_EveryoneSocial, Number of Missing Values: 0\n",
            "sourceLabel_F1reader, Number of Missing Values: 0\n",
            "sourceLabel_FS-Poster-App, Number of Missing Values: 0\n",
            "sourceLabel_IFTTT, Number of Missing Values: 0\n",
            "sourceLabel_MotorsportWeek, Number of Missing Values: 0\n",
            "sourceLabel_OverheardThePit, Number of Missing Values: 0\n",
            "sourceLabel_Powered by Sprinklr, Number of Missing Values: 0\n",
            "sourceLabel_Radio King LiveTweet, Number of Missing Values: 0\n",
            "sourceLabel_Revive Social App, Number of Missing Values: 0\n",
            "sourceLabel_SocialBee, Number of Missing Values: 0\n",
            "sourceLabel_Sprout Social, Number of Missing Values: 0\n",
            "sourceLabel_TweetDeck, Number of Missing Values: 0\n",
            "sourceLabel_TweetDeck Web App, Number of Missing Values: 0\n",
            "sourceLabel_Twitter Ads, Number of Missing Values: 0\n",
            "sourceLabel_Twitter Web App, Number of Missing Values: 0\n",
            "sourceLabel_Twitter for Android, Number of Missing Values: 0\n",
            "sourceLabel_Twitter for iPad, Number of Missing Values: 0\n",
            "sourceLabel_Twitter for iPhone, Number of Missing Values: 0\n",
            "sourceLabel_Zapier.com, Number of Missing Values: 0\n",
            "sourceLabel_dlvr.it, Number of Missing Values: 0\n",
            "SentimentValue_Negative, Number of Missing Values: 0\n",
            "SentimentValue_Neutral, Number of Missing Values: 0\n",
            "SentimentValue_Positive, Number of Missing Values: 0\n"
          ]
        },
        {
          "name": "stdout",
          "output_type": "stream",
          "text": [
            "\n",
            "\n",
            "\n",
            "url, Number of Missing Values: 0\n",
            "date, Number of Missing Values: 0\n",
            "id, Number of Missing Values: 0\n",
            "user, Number of Missing Values: 0\n",
            "replyCount, Number of Missing Values: 0\n",
            "retweetCount, Number of Missing Values: 0\n",
            "likeCount, Number of Missing Values: 0\n",
            "quoteCount, Number of Missing Values: 0\n",
            "quotedTweet, Number of Missing Values: 0\n",
            "hashtags, Number of Missing Values: 0\n",
            "viewCount, Number of Missing Values: 0\n",
            "renderedContent, Number of Missing Values: 0\n",
            "RefinedContent, Number of Missing Values: 0\n",
            "lemmatized_tokens, Number of Missing Values: 0\n",
            "tfidf_matrix, Number of Missing Values: 0\n",
            "lang_en, Number of Missing Values: 0\n",
            "sourceLabel_Blog2Tweet Automation, Number of Missing Values: 0\n",
            "sourceLabel_Buffer, Number of Missing Values: 0\n",
            "sourceLabel_EFLFootballNews, Number of Missing Values: 0\n",
            "sourceLabel_EnglandNationalTeamNews, Number of Missing Values: 0\n",
            "sourceLabel_EveryoneSocial, Number of Missing Values: 0\n",
            "sourceLabel_F1reader, Number of Missing Values: 0\n",
            "sourceLabel_FS-Poster-App, Number of Missing Values: 0\n",
            "sourceLabel_IFTTT, Number of Missing Values: 0\n",
            "sourceLabel_MotorsportWeek, Number of Missing Values: 0\n",
            "sourceLabel_OverheardThePit, Number of Missing Values: 0\n",
            "sourceLabel_Powered by Sprinklr, Number of Missing Values: 0\n",
            "sourceLabel_Radio King LiveTweet, Number of Missing Values: 0\n",
            "sourceLabel_Revive Social App, Number of Missing Values: 0\n",
            "sourceLabel_SocialBee, Number of Missing Values: 0\n",
            "sourceLabel_Sprout Social, Number of Missing Values: 0\n",
            "sourceLabel_TweetDeck, Number of Missing Values: 0\n",
            "sourceLabel_TweetDeck Web App, Number of Missing Values: 0\n",
            "sourceLabel_Twitter Ads, Number of Missing Values: 0\n",
            "sourceLabel_Twitter Web App, Number of Missing Values: 0\n",
            "sourceLabel_Twitter for Android, Number of Missing Values: 0\n",
            "sourceLabel_Twitter for iPad, Number of Missing Values: 0\n",
            "sourceLabel_Twitter for iPhone, Number of Missing Values: 0\n",
            "sourceLabel_Zapier.com, Number of Missing Values: 0\n",
            "sourceLabel_dlvr.it, Number of Missing Values: 0\n",
            "SentimentValue_Negative, Number of Missing Values: 0\n",
            "SentimentValue_Neutral, Number of Missing Values: 0\n",
            "SentimentValue_Positive, Number of Missing Values: 0\n"
          ]
        }
      ],
      "source": [
        "# Print data types of columns in catcols\n",
        "\n",
        "for col in normalized_df.columns:\n",
        "\n",
        "    print(f\"Column '{col}' has data type: {normalized_df[col].dtype}\")\n",
        "\n",
        "for col in normalized_df.columns:\n",
        "    print(col + ', Number of Missing Values:', len(normalized_df[col][normalized_df[col].isnull()]))\n",
        "\n",
        "#fill missing values with mode values of fatures\n",
        "mode_values = normalized_df.mode().iloc[0]\n",
        "columns_to_fill = normalized_df.columns\n",
        "normalized_df[columns_to_fill] = normalized_df[columns_to_fill].fillna(mode_values)\n",
        "\n",
        "print(\"\\n\\n\")\n",
        "for col in normalized_df.columns:\n",
        "    print(col + ', Number of Missing Values:', len(normalized_df[col][normalized_df[col].isnull()]))\n"
      ]
    },
    {
      "cell_type": "code",
      "execution_count": 76,
      "metadata": {},
      "outputs": [
        {
          "name": "stdout",
          "output_type": "stream",
          "text": [
            "['url', 'date', 'user', 'quotedTweet', 'hashtags', 'renderedContent', 'RefinedContent', 'lemmatized_tokens', 'tfidf_matrix']\n"
          ]
        }
      ],
      "source": [
        "# Select columns that are not in numcols\n",
        "catcols = normalized_df.loc[:, ~normalized_df.columns.isin(numcols)]\n",
        "catcols = catcols.drop('id', axis=1) \n",
        "# Convert string column to boolean\n",
        "\n",
        "\n",
        "boolean_mapping = {'True': True, 'False': False}\n",
        "for col in catcols.columns:\n",
        "    catcols[col] = catcols[col].map(boolean_mapping)\n",
        "\n",
        "# Convert specified columns from string to boolean\n",
        "for col in catcols.columns:\n",
        "    try:\n",
        "        catcols[col] = catcols[col].astype(pd.BooleanDtype())\n",
        "    except TypeError:\n",
        "        # Handle non-boolean values, e.g., NaN values\n",
        "        pass\n",
        "\n",
        "# Convert specified columns from string to boolean\n",
        "'''for col in catcols.columns:\n",
        "    catcols[col] = catcols[col].astype(pd.BooleanDtype())'''\n",
        "\n",
        "print(catcols.columns.tolist())"
      ]
    },
    {
      "cell_type": "code",
      "execution_count": 78,
      "metadata": {},
      "outputs": [
        {
          "name": "stdout",
          "output_type": "stream",
          "text": [
            "     replyCount  retweetCount  likeCount  quoteCount  viewCount  lang_en  \\\n",
            "0           0.0           0.0        0.0         0.0   0.000000      0.0   \n",
            "1           0.0           0.0        0.4         0.0   0.624164      0.0   \n",
            "2           0.0           0.0        0.4         0.0   0.228266      0.0   \n",
            "3           0.0           0.0        0.0         0.0   0.000000      0.0   \n",
            "4           0.0           0.0        0.4         0.0   0.128399      0.0   \n",
            "..          ...           ...        ...         ...        ...      ...   \n",
            "305         0.0           0.0        0.0         0.0   0.602764      0.0   \n",
            "306         0.0           0.0        0.0         0.0   0.171199      0.0   \n",
            "307         0.0           0.0        0.0         0.0   0.024967      0.0   \n",
            "308         0.0           0.0        0.0         0.0   0.017833      0.0   \n",
            "309         0.0           0.0        0.0         0.0   0.028533      0.0   \n",
            "\n",
            "     sourceLabel_Blog2Tweet Automation  sourceLabel_Buffer  \\\n",
            "0                                  1.0                 0.0   \n",
            "1                                  0.0                 0.0   \n",
            "2                                  0.0                 0.0   \n",
            "3                                  0.0                 0.0   \n",
            "4                                  0.0                 1.0   \n",
            "..                                 ...                 ...   \n",
            "305                                0.0                 0.0   \n",
            "306                                0.0                 0.0   \n",
            "307                                0.0                 0.0   \n",
            "308                                0.0                 0.0   \n",
            "309                                0.0                 0.0   \n",
            "\n",
            "     sourceLabel_EFLFootballNews  sourceLabel_EnglandNationalTeamNews  ...  \\\n",
            "0                            0.0                                  0.0  ...   \n",
            "1                            0.0                                  0.0  ...   \n",
            "2                            0.0                                  0.0  ...   \n",
            "3                            0.0                                  0.0  ...   \n",
            "4                            0.0                                  0.0  ...   \n",
            "..                           ...                                  ...  ...   \n",
            "305                          0.0                                  0.0  ...   \n",
            "306                          0.0                                  0.0  ...   \n",
            "307                          0.0                                  0.0  ...   \n",
            "308                          0.0                                  0.0  ...   \n",
            "309                          0.0                                  0.0  ...   \n",
            "\n",
            "     sourceLabel_Twitter Ads  sourceLabel_Twitter Web App  \\\n",
            "0                        0.0                          0.0   \n",
            "1                        0.0                          0.0   \n",
            "2                        0.0                          0.0   \n",
            "3                        0.0                          0.0   \n",
            "4                        0.0                          0.0   \n",
            "..                       ...                          ...   \n",
            "305                      0.0                          1.0   \n",
            "306                      0.0                          0.0   \n",
            "307                      0.0                          0.0   \n",
            "308                      0.0                          0.0   \n",
            "309                      0.0                          0.0   \n",
            "\n",
            "     sourceLabel_Twitter for Android  sourceLabel_Twitter for iPad  \\\n",
            "0                                0.0                           0.0   \n",
            "1                                0.0                           0.0   \n",
            "2                                0.0                           0.0   \n",
            "3                                0.0                           0.0   \n",
            "4                                0.0                           0.0   \n",
            "..                               ...                           ...   \n",
            "305                              0.0                           0.0   \n",
            "306                              0.0                           0.0   \n",
            "307                              0.0                           0.0   \n",
            "308                              0.0                           0.0   \n",
            "309                              0.0                           0.0   \n",
            "\n",
            "     sourceLabel_Twitter for iPhone  sourceLabel_Zapier.com  \\\n",
            "0                               0.0                     0.0   \n",
            "1                               0.0                     0.0   \n",
            "2                               0.0                     0.0   \n",
            "3                               0.0                     0.0   \n",
            "4                               0.0                     0.0   \n",
            "..                              ...                     ...   \n",
            "305                             0.0                     0.0   \n",
            "306                             0.0                     0.0   \n",
            "307                             0.0                     0.0   \n",
            "308                             0.0                     0.0   \n",
            "309                             0.0                     0.0   \n",
            "\n",
            "     sourceLabel_dlvr.it  SentimentValue_Negative  SentimentValue_Neutral  \\\n",
            "0                    0.0                      1.0                     0.0   \n",
            "1                    0.0                      0.0                     1.0   \n",
            "2                    0.0                      0.0                     1.0   \n",
            "3                    0.0                      0.0                     1.0   \n",
            "4                    0.0                      0.0                     1.0   \n",
            "..                   ...                      ...                     ...   \n",
            "305                  0.0                      0.0                     1.0   \n",
            "306                  0.0                      0.0                     1.0   \n",
            "307                  0.0                      0.0                     1.0   \n",
            "308                  0.0                      1.0                     0.0   \n",
            "309                  0.0                      0.0                     0.0   \n",
            "\n",
            "     SentimentValue_Positive  \n",
            "0                        0.0  \n",
            "1                        0.0  \n",
            "2                        0.0  \n",
            "3                        0.0  \n",
            "4                        0.0  \n",
            "..                       ...  \n",
            "305                      0.0  \n",
            "306                      0.0  \n",
            "307                      0.0  \n",
            "308                      0.0  \n",
            "309                      1.0  \n",
            "\n",
            "[310 rows x 33 columns]\n",
            "Index(['url', 'date', 'id', 'user', 'replyCount', 'retweetCount', 'likeCount',\n",
            "       'quoteCount', 'quotedTweet', 'hashtags', 'viewCount', 'renderedContent',\n",
            "       'RefinedContent', 'lemmatized_tokens', 'tfidf_matrix', 'lang_en',\n",
            "       'sourceLabel_Blog2Tweet Automation', 'sourceLabel_Buffer',\n",
            "       'sourceLabel_EFLFootballNews', 'sourceLabel_EnglandNationalTeamNews',\n",
            "       'sourceLabel_EveryoneSocial', 'sourceLabel_F1reader',\n",
            "       'sourceLabel_FS-Poster-App', 'sourceLabel_IFTTT',\n",
            "       'sourceLabel_MotorsportWeek', 'sourceLabel_OverheardThePit',\n",
            "       'sourceLabel_Powered by Sprinklr', 'sourceLabel_Radio King LiveTweet',\n",
            "       'sourceLabel_Revive Social App', 'sourceLabel_SocialBee',\n",
            "       'sourceLabel_Sprout Social', 'sourceLabel_TweetDeck',\n",
            "       'sourceLabel_TweetDeck Web App', 'sourceLabel_Twitter Ads',\n",
            "       'sourceLabel_Twitter Web App', 'sourceLabel_Twitter for Android',\n",
            "       'sourceLabel_Twitter for iPad', 'sourceLabel_Twitter for iPhone',\n",
            "       'sourceLabel_Zapier.com', 'sourceLabel_dlvr.it',\n",
            "       'SentimentValue_Negative', 'SentimentValue_Neutral',\n",
            "       'SentimentValue_Positive', 'PC1', 'PC2', 'PC3', 'PC4', 'PC5', 'PC6',\n",
            "       'PC7', 'PC8'],\n",
            "      dtype='object')\n"
          ]
        }
      ],
      "source": [
        "# Initialize PCA with the desired number of components\n",
        "n_comps = 8 #Set the number of components you want\n",
        "pca = PCA(n_components=n_comps)\n",
        "\n",
        "# Fit and transform the normalized data using PCA\n",
        "pca_result = pca.fit_transform(normalized_df[numcols])\n",
        "print(normalized_df[numcols])\n",
        "\n",
        "# Create a DataFrame to store PCA results\n",
        "pca_df = pd.DataFrame(data=pca_result, columns=[f'PC{i+1}' for i in range(n_components)])\n",
        "\n",
        "# Concatenate PCA results with categorical columns from normalized_df\n",
        "final_pca_df = pd.concat([normalized_df[catcols], pca_df], axis=1)\n",
        "\n",
        "# Now final_pca_df contains the PCA results along with categorical columns\n",
        "print(final_pca_df.columns)"
      ]
    },
    {
      "cell_type": "code",
      "execution_count": 85,
      "metadata": {},
      "outputs": [
        {
          "name": "stdout",
          "output_type": "stream",
          "text": [
            "\n",
            "Train data shape: (248, 40) (248, 3)\n",
            "\n",
            "Test data shape: (62, 40) (62, 3)\n"
          ]
        }
      ],
      "source": [
        "#seperating Features and target variables\n",
        "from sklearn.model_selection import train_test_split\n",
        "from sklearn.metrics import mean_squared_error, r2_score\n",
        "from sklearn.preprocessing import StandardScaler\n",
        "from sklearn.linear_model import Ridge\n",
        "\n",
        "# Columns to exclude from features (X)\n",
        "columns_to_exclude = ['SentimentValue_Negative', 'SentimentValue_Neutral', 'SentimentValue_Positive']\n",
        "\n",
        "X = normalized_df.loc[:, normalized_df.columns.difference(columns_to_exclude)]\n",
        "Y = normalized_df[columns_to_exclude]\n",
        "#splitting in train and test\n",
        "X_train, X_test, y_train, y_test = train_test_split(X, Y,test_size=0.2, random_state=42)\n",
        "# Print the shapes of the train and test sets\n",
        "print(\"\\nTrain data shape:\", X_train.shape, y_train.shape)\n",
        "print(\"\\nTest data shape:\", X_test.shape, y_test.shape)"
      ]
    },
    {
      "cell_type": "code",
      "execution_count": null,
      "metadata": {},
      "outputs": [],
      "source": []
    },
    {
      "cell_type": "code",
      "execution_count": null,
      "metadata": {},
      "outputs": [],
      "source": [
        "#only taking numericals columns after we OH encoded\n",
        "numcols = [col for col in encoded_df.columns if col not in ['id','url', 'date', 'user', 'quotedTweet', 'hashtags', 'renderedContent', 'RefinedContent', 'lemmatized_tokens', 'tfidf_matrix']]\n",
        "print(numcols)"
      ]
    },
    {
      "cell_type": "code",
      "execution_count": 84,
      "metadata": {},
      "outputs": [
        {
          "ename": "ValueError",
          "evalue": "could not convert string to float: \"You Can Now Buy Signed Copies Of Steiner's New 'Tell All' F1 Book Formula1 F1 F1News Motorsport Formule1 wtf1.com/post/you-can-n...\"",
          "output_type": "error",
          "traceback": [
            "\u001b[1;31m---------------------------------------------------------------------------\u001b[0m",
            "\u001b[1;31mValueError\u001b[0m                                Traceback (most recent call last)",
            "\u001b[1;32m~\\AppData\\Local\\Temp\\ipykernel_11220\\2891543679.py\u001b[0m in \u001b[0;36m?\u001b[1;34m()\u001b[0m\n\u001b[0;32m      1\u001b[0m \u001b[1;31m# Initialize and fit the preprocessing scaler on the training data\u001b[0m\u001b[1;33m\u001b[0m\u001b[1;33m\u001b[0m\u001b[0m\n\u001b[0;32m      2\u001b[0m \u001b[0mscaler\u001b[0m \u001b[1;33m=\u001b[0m \u001b[0mStandardScaler\u001b[0m\u001b[1;33m(\u001b[0m\u001b[1;33m)\u001b[0m\u001b[1;33m\u001b[0m\u001b[1;33m\u001b[0m\u001b[0m\n\u001b[1;32m----> 3\u001b[1;33m \u001b[0mX_train_scaled\u001b[0m \u001b[1;33m=\u001b[0m \u001b[0mscaler\u001b[0m\u001b[1;33m.\u001b[0m\u001b[0mfit_transform\u001b[0m\u001b[1;33m(\u001b[0m\u001b[0mX_train\u001b[0m\u001b[1;33m)\u001b[0m\u001b[1;33m\u001b[0m\u001b[1;33m\u001b[0m\u001b[0m\n\u001b[0m\u001b[0;32m      4\u001b[0m \u001b[1;31m# Apply the same transformation to the test data\u001b[0m\u001b[1;33m\u001b[0m\u001b[1;33m\u001b[0m\u001b[0m\n\u001b[0;32m      5\u001b[0m \u001b[0mX_test_scaled\u001b[0m \u001b[1;33m=\u001b[0m \u001b[0mscaler\u001b[0m\u001b[1;33m.\u001b[0m\u001b[0mtransform\u001b[0m\u001b[1;33m(\u001b[0m\u001b[0mX_test\u001b[0m\u001b[1;33m)\u001b[0m\u001b[1;33m\u001b[0m\u001b[1;33m\u001b[0m\u001b[0m\n",
            "\u001b[1;32mc:\\Users\\LENOVO\\AppData\\Local\\Programs\\Python\\Python311\\Lib\\site-packages\\sklearn\\utils\\_set_output.py\u001b[0m in \u001b[0;36m?\u001b[1;34m(self, X, *args, **kwargs)\u001b[0m\n\u001b[0;32m    138\u001b[0m     \u001b[1;33m@\u001b[0m\u001b[0mwraps\u001b[0m\u001b[1;33m(\u001b[0m\u001b[0mf\u001b[0m\u001b[1;33m)\u001b[0m\u001b[1;33m\u001b[0m\u001b[1;33m\u001b[0m\u001b[0m\n\u001b[0;32m    139\u001b[0m     \u001b[1;32mdef\u001b[0m \u001b[0mwrapped\u001b[0m\u001b[1;33m(\u001b[0m\u001b[0mself\u001b[0m\u001b[1;33m,\u001b[0m \u001b[0mX\u001b[0m\u001b[1;33m,\u001b[0m \u001b[1;33m*\u001b[0m\u001b[0margs\u001b[0m\u001b[1;33m,\u001b[0m \u001b[1;33m**\u001b[0m\u001b[0mkwargs\u001b[0m\u001b[1;33m)\u001b[0m\u001b[1;33m:\u001b[0m\u001b[1;33m\u001b[0m\u001b[1;33m\u001b[0m\u001b[0m\n\u001b[1;32m--> 140\u001b[1;33m         \u001b[0mdata_to_wrap\u001b[0m \u001b[1;33m=\u001b[0m \u001b[0mf\u001b[0m\u001b[1;33m(\u001b[0m\u001b[0mself\u001b[0m\u001b[1;33m,\u001b[0m \u001b[0mX\u001b[0m\u001b[1;33m,\u001b[0m \u001b[1;33m*\u001b[0m\u001b[0margs\u001b[0m\u001b[1;33m,\u001b[0m \u001b[1;33m**\u001b[0m\u001b[0mkwargs\u001b[0m\u001b[1;33m)\u001b[0m\u001b[1;33m\u001b[0m\u001b[1;33m\u001b[0m\u001b[0m\n\u001b[0m\u001b[0;32m    141\u001b[0m         \u001b[1;32mif\u001b[0m \u001b[0misinstance\u001b[0m\u001b[1;33m(\u001b[0m\u001b[0mdata_to_wrap\u001b[0m\u001b[1;33m,\u001b[0m \u001b[0mtuple\u001b[0m\u001b[1;33m)\u001b[0m\u001b[1;33m:\u001b[0m\u001b[1;33m\u001b[0m\u001b[1;33m\u001b[0m\u001b[0m\n\u001b[0;32m    142\u001b[0m             \u001b[1;31m# only wrap the first output for cross decomposition\u001b[0m\u001b[1;33m\u001b[0m\u001b[1;33m\u001b[0m\u001b[0m\n\u001b[0;32m    143\u001b[0m             return (\n",
            "\u001b[1;32mc:\\Users\\LENOVO\\AppData\\Local\\Programs\\Python\\Python311\\Lib\\site-packages\\sklearn\\base.py\u001b[0m in \u001b[0;36m?\u001b[1;34m(self, X, y, **fit_params)\u001b[0m\n\u001b[0;32m    874\u001b[0m         \u001b[1;31m# non-optimized default implementation; override when a better\u001b[0m\u001b[1;33m\u001b[0m\u001b[1;33m\u001b[0m\u001b[0m\n\u001b[0;32m    875\u001b[0m         \u001b[1;31m# method is possible for a given clustering algorithm\u001b[0m\u001b[1;33m\u001b[0m\u001b[1;33m\u001b[0m\u001b[0m\n\u001b[0;32m    876\u001b[0m         \u001b[1;32mif\u001b[0m \u001b[0my\u001b[0m \u001b[1;32mis\u001b[0m \u001b[1;32mNone\u001b[0m\u001b[1;33m:\u001b[0m\u001b[1;33m\u001b[0m\u001b[1;33m\u001b[0m\u001b[0m\n\u001b[0;32m    877\u001b[0m             \u001b[1;31m# fit method of arity 1 (unsupervised transformation)\u001b[0m\u001b[1;33m\u001b[0m\u001b[1;33m\u001b[0m\u001b[0m\n\u001b[1;32m--> 878\u001b[1;33m             \u001b[1;32mreturn\u001b[0m \u001b[0mself\u001b[0m\u001b[1;33m.\u001b[0m\u001b[0mfit\u001b[0m\u001b[1;33m(\u001b[0m\u001b[0mX\u001b[0m\u001b[1;33m,\u001b[0m \u001b[1;33m**\u001b[0m\u001b[0mfit_params\u001b[0m\u001b[1;33m)\u001b[0m\u001b[1;33m.\u001b[0m\u001b[0mtransform\u001b[0m\u001b[1;33m(\u001b[0m\u001b[0mX\u001b[0m\u001b[1;33m)\u001b[0m\u001b[1;33m\u001b[0m\u001b[1;33m\u001b[0m\u001b[0m\n\u001b[0m\u001b[0;32m    879\u001b[0m         \u001b[1;32melse\u001b[0m\u001b[1;33m:\u001b[0m\u001b[1;33m\u001b[0m\u001b[1;33m\u001b[0m\u001b[0m\n\u001b[0;32m    880\u001b[0m             \u001b[1;31m# fit method of arity 2 (supervised transformation)\u001b[0m\u001b[1;33m\u001b[0m\u001b[1;33m\u001b[0m\u001b[0m\n\u001b[0;32m    881\u001b[0m             \u001b[1;32mreturn\u001b[0m \u001b[0mself\u001b[0m\u001b[1;33m.\u001b[0m\u001b[0mfit\u001b[0m\u001b[1;33m(\u001b[0m\u001b[0mX\u001b[0m\u001b[1;33m,\u001b[0m \u001b[0my\u001b[0m\u001b[1;33m,\u001b[0m \u001b[1;33m**\u001b[0m\u001b[0mfit_params\u001b[0m\u001b[1;33m)\u001b[0m\u001b[1;33m.\u001b[0m\u001b[0mtransform\u001b[0m\u001b[1;33m(\u001b[0m\u001b[0mX\u001b[0m\u001b[1;33m)\u001b[0m\u001b[1;33m\u001b[0m\u001b[1;33m\u001b[0m\u001b[0m\n",
            "\u001b[1;32mc:\\Users\\LENOVO\\AppData\\Local\\Programs\\Python\\Python311\\Lib\\site-packages\\sklearn\\preprocessing\\_data.py\u001b[0m in \u001b[0;36m?\u001b[1;34m(self, X, y, sample_weight)\u001b[0m\n\u001b[0;32m    820\u001b[0m             \u001b[0mFitted\u001b[0m \u001b[0mscaler\u001b[0m\u001b[1;33m.\u001b[0m\u001b[1;33m\u001b[0m\u001b[1;33m\u001b[0m\u001b[0m\n\u001b[0;32m    821\u001b[0m         \"\"\"\n\u001b[0;32m    822\u001b[0m         \u001b[1;31m# Reset internal state before fitting\u001b[0m\u001b[1;33m\u001b[0m\u001b[1;33m\u001b[0m\u001b[0m\n\u001b[0;32m    823\u001b[0m         \u001b[0mself\u001b[0m\u001b[1;33m.\u001b[0m\u001b[0m_reset\u001b[0m\u001b[1;33m(\u001b[0m\u001b[1;33m)\u001b[0m\u001b[1;33m\u001b[0m\u001b[1;33m\u001b[0m\u001b[0m\n\u001b[1;32m--> 824\u001b[1;33m         \u001b[1;32mreturn\u001b[0m \u001b[0mself\u001b[0m\u001b[1;33m.\u001b[0m\u001b[0mpartial_fit\u001b[0m\u001b[1;33m(\u001b[0m\u001b[0mX\u001b[0m\u001b[1;33m,\u001b[0m \u001b[0my\u001b[0m\u001b[1;33m,\u001b[0m \u001b[0msample_weight\u001b[0m\u001b[1;33m)\u001b[0m\u001b[1;33m\u001b[0m\u001b[1;33m\u001b[0m\u001b[0m\n\u001b[0m",
            "\u001b[1;32mc:\\Users\\LENOVO\\AppData\\Local\\Programs\\Python\\Python311\\Lib\\site-packages\\sklearn\\preprocessing\\_data.py\u001b[0m in \u001b[0;36m?\u001b[1;34m(self, X, y, sample_weight)\u001b[0m\n\u001b[0;32m    857\u001b[0m         \"\"\"\n\u001b[0;32m    858\u001b[0m         \u001b[0mself\u001b[0m\u001b[1;33m.\u001b[0m\u001b[0m_validate_params\u001b[0m\u001b[1;33m(\u001b[0m\u001b[1;33m)\u001b[0m\u001b[1;33m\u001b[0m\u001b[1;33m\u001b[0m\u001b[0m\n\u001b[0;32m    859\u001b[0m \u001b[1;33m\u001b[0m\u001b[0m\n\u001b[0;32m    860\u001b[0m         \u001b[0mfirst_call\u001b[0m \u001b[1;33m=\u001b[0m \u001b[1;32mnot\u001b[0m \u001b[0mhasattr\u001b[0m\u001b[1;33m(\u001b[0m\u001b[0mself\u001b[0m\u001b[1;33m,\u001b[0m \u001b[1;34m\"n_samples_seen_\"\u001b[0m\u001b[1;33m)\u001b[0m\u001b[1;33m\u001b[0m\u001b[1;33m\u001b[0m\u001b[0m\n\u001b[1;32m--> 861\u001b[1;33m         X = self._validate_data(\n\u001b[0m\u001b[0;32m    862\u001b[0m             \u001b[0mX\u001b[0m\u001b[1;33m,\u001b[0m\u001b[1;33m\u001b[0m\u001b[1;33m\u001b[0m\u001b[0m\n\u001b[0;32m    863\u001b[0m             \u001b[0maccept_sparse\u001b[0m\u001b[1;33m=\u001b[0m\u001b[1;33m(\u001b[0m\u001b[1;34m\"csr\"\u001b[0m\u001b[1;33m,\u001b[0m \u001b[1;34m\"csc\"\u001b[0m\u001b[1;33m)\u001b[0m\u001b[1;33m,\u001b[0m\u001b[1;33m\u001b[0m\u001b[1;33m\u001b[0m\u001b[0m\n\u001b[0;32m    864\u001b[0m             \u001b[0mdtype\u001b[0m\u001b[1;33m=\u001b[0m\u001b[0mFLOAT_DTYPES\u001b[0m\u001b[1;33m,\u001b[0m\u001b[1;33m\u001b[0m\u001b[1;33m\u001b[0m\u001b[0m\n",
            "\u001b[1;32mc:\\Users\\LENOVO\\AppData\\Local\\Programs\\Python\\Python311\\Lib\\site-packages\\sklearn\\base.py\u001b[0m in \u001b[0;36m?\u001b[1;34m(self, X, y, reset, validate_separately, **check_params)\u001b[0m\n\u001b[0;32m    561\u001b[0m \u001b[1;33m\u001b[0m\u001b[0m\n\u001b[0;32m    562\u001b[0m         \u001b[1;32mif\u001b[0m \u001b[0mno_val_X\u001b[0m \u001b[1;32mand\u001b[0m \u001b[0mno_val_y\u001b[0m\u001b[1;33m:\u001b[0m\u001b[1;33m\u001b[0m\u001b[1;33m\u001b[0m\u001b[0m\n\u001b[0;32m    563\u001b[0m             \u001b[1;32mraise\u001b[0m \u001b[0mValueError\u001b[0m\u001b[1;33m(\u001b[0m\u001b[1;34m\"Validation should be done on X, y or both.\"\u001b[0m\u001b[1;33m)\u001b[0m\u001b[1;33m\u001b[0m\u001b[1;33m\u001b[0m\u001b[0m\n\u001b[0;32m    564\u001b[0m         \u001b[1;32melif\u001b[0m \u001b[1;32mnot\u001b[0m \u001b[0mno_val_X\u001b[0m \u001b[1;32mand\u001b[0m \u001b[0mno_val_y\u001b[0m\u001b[1;33m:\u001b[0m\u001b[1;33m\u001b[0m\u001b[1;33m\u001b[0m\u001b[0m\n\u001b[1;32m--> 565\u001b[1;33m             \u001b[0mX\u001b[0m \u001b[1;33m=\u001b[0m \u001b[0mcheck_array\u001b[0m\u001b[1;33m(\u001b[0m\u001b[0mX\u001b[0m\u001b[1;33m,\u001b[0m \u001b[0minput_name\u001b[0m\u001b[1;33m=\u001b[0m\u001b[1;34m\"X\"\u001b[0m\u001b[1;33m,\u001b[0m \u001b[1;33m**\u001b[0m\u001b[0mcheck_params\u001b[0m\u001b[1;33m)\u001b[0m\u001b[1;33m\u001b[0m\u001b[1;33m\u001b[0m\u001b[0m\n\u001b[0m\u001b[0;32m    566\u001b[0m             \u001b[0mout\u001b[0m \u001b[1;33m=\u001b[0m \u001b[0mX\u001b[0m\u001b[1;33m\u001b[0m\u001b[1;33m\u001b[0m\u001b[0m\n\u001b[0;32m    567\u001b[0m         \u001b[1;32melif\u001b[0m \u001b[0mno_val_X\u001b[0m \u001b[1;32mand\u001b[0m \u001b[1;32mnot\u001b[0m \u001b[0mno_val_y\u001b[0m\u001b[1;33m:\u001b[0m\u001b[1;33m\u001b[0m\u001b[1;33m\u001b[0m\u001b[0m\n\u001b[0;32m    568\u001b[0m             \u001b[0my\u001b[0m \u001b[1;33m=\u001b[0m \u001b[0m_check_y\u001b[0m\u001b[1;33m(\u001b[0m\u001b[0my\u001b[0m\u001b[1;33m,\u001b[0m \u001b[1;33m**\u001b[0m\u001b[0mcheck_params\u001b[0m\u001b[1;33m)\u001b[0m\u001b[1;33m\u001b[0m\u001b[1;33m\u001b[0m\u001b[0m\n",
            "\u001b[1;32mc:\\Users\\LENOVO\\AppData\\Local\\Programs\\Python\\Python311\\Lib\\site-packages\\sklearn\\utils\\validation.py\u001b[0m in \u001b[0;36m?\u001b[1;34m(array, accept_sparse, accept_large_sparse, dtype, order, copy, force_all_finite, ensure_2d, allow_nd, ensure_min_samples, ensure_min_features, estimator, input_name)\u001b[0m\n\u001b[0;32m    876\u001b[0m                         )\n\u001b[0;32m    877\u001b[0m                     \u001b[0marray\u001b[0m \u001b[1;33m=\u001b[0m \u001b[0mxp\u001b[0m\u001b[1;33m.\u001b[0m\u001b[0mastype\u001b[0m\u001b[1;33m(\u001b[0m\u001b[0marray\u001b[0m\u001b[1;33m,\u001b[0m \u001b[0mdtype\u001b[0m\u001b[1;33m,\u001b[0m \u001b[0mcopy\u001b[0m\u001b[1;33m=\u001b[0m\u001b[1;32mFalse\u001b[0m\u001b[1;33m)\u001b[0m\u001b[1;33m\u001b[0m\u001b[1;33m\u001b[0m\u001b[0m\n\u001b[0;32m    878\u001b[0m                 \u001b[1;32melse\u001b[0m\u001b[1;33m:\u001b[0m\u001b[1;33m\u001b[0m\u001b[1;33m\u001b[0m\u001b[0m\n\u001b[0;32m    879\u001b[0m                     \u001b[0marray\u001b[0m \u001b[1;33m=\u001b[0m \u001b[0m_asarray_with_order\u001b[0m\u001b[1;33m(\u001b[0m\u001b[0marray\u001b[0m\u001b[1;33m,\u001b[0m \u001b[0morder\u001b[0m\u001b[1;33m=\u001b[0m\u001b[0morder\u001b[0m\u001b[1;33m,\u001b[0m \u001b[0mdtype\u001b[0m\u001b[1;33m=\u001b[0m\u001b[0mdtype\u001b[0m\u001b[1;33m,\u001b[0m \u001b[0mxp\u001b[0m\u001b[1;33m=\u001b[0m\u001b[0mxp\u001b[0m\u001b[1;33m)\u001b[0m\u001b[1;33m\u001b[0m\u001b[1;33m\u001b[0m\u001b[0m\n\u001b[1;32m--> 880\u001b[1;33m             \u001b[1;32mexcept\u001b[0m \u001b[0mComplexWarning\u001b[0m \u001b[1;32mas\u001b[0m \u001b[0mcomplex_warning\u001b[0m\u001b[1;33m:\u001b[0m\u001b[1;33m\u001b[0m\u001b[1;33m\u001b[0m\u001b[0m\n\u001b[0m\u001b[0;32m    881\u001b[0m                 raise ValueError(\n\u001b[0;32m    882\u001b[0m                     \u001b[1;34m\"Complex data not supported\\n{}\\n\"\u001b[0m\u001b[1;33m.\u001b[0m\u001b[0mformat\u001b[0m\u001b[1;33m(\u001b[0m\u001b[0marray\u001b[0m\u001b[1;33m)\u001b[0m\u001b[1;33m\u001b[0m\u001b[1;33m\u001b[0m\u001b[0m\n\u001b[0;32m    883\u001b[0m                 ) from complex_warning\n",
            "\u001b[1;32mc:\\Users\\LENOVO\\AppData\\Local\\Programs\\Python\\Python311\\Lib\\site-packages\\sklearn\\utils\\_array_api.py\u001b[0m in \u001b[0;36m?\u001b[1;34m(array, dtype, order, copy, xp)\u001b[0m\n\u001b[0;32m    181\u001b[0m     \u001b[1;32mif\u001b[0m \u001b[0mxp\u001b[0m \u001b[1;32mis\u001b[0m \u001b[1;32mNone\u001b[0m\u001b[1;33m:\u001b[0m\u001b[1;33m\u001b[0m\u001b[1;33m\u001b[0m\u001b[0m\n\u001b[0;32m    182\u001b[0m         \u001b[0mxp\u001b[0m\u001b[1;33m,\u001b[0m \u001b[0m_\u001b[0m \u001b[1;33m=\u001b[0m \u001b[0mget_namespace\u001b[0m\u001b[1;33m(\u001b[0m\u001b[0marray\u001b[0m\u001b[1;33m)\u001b[0m\u001b[1;33m\u001b[0m\u001b[1;33m\u001b[0m\u001b[0m\n\u001b[0;32m    183\u001b[0m     \u001b[1;32mif\u001b[0m \u001b[0mxp\u001b[0m\u001b[1;33m.\u001b[0m\u001b[0m__name__\u001b[0m \u001b[1;32min\u001b[0m \u001b[1;33m{\u001b[0m\u001b[1;34m\"numpy\"\u001b[0m\u001b[1;33m,\u001b[0m \u001b[1;34m\"numpy.array_api\"\u001b[0m\u001b[1;33m}\u001b[0m\u001b[1;33m:\u001b[0m\u001b[1;33m\u001b[0m\u001b[1;33m\u001b[0m\u001b[0m\n\u001b[0;32m    184\u001b[0m         \u001b[1;31m# Use NumPy API to support order\u001b[0m\u001b[1;33m\u001b[0m\u001b[1;33m\u001b[0m\u001b[0m\n\u001b[1;32m--> 185\u001b[1;33m         \u001b[0marray\u001b[0m \u001b[1;33m=\u001b[0m \u001b[0mnumpy\u001b[0m\u001b[1;33m.\u001b[0m\u001b[0masarray\u001b[0m\u001b[1;33m(\u001b[0m\u001b[0marray\u001b[0m\u001b[1;33m,\u001b[0m \u001b[0morder\u001b[0m\u001b[1;33m=\u001b[0m\u001b[0morder\u001b[0m\u001b[1;33m,\u001b[0m \u001b[0mdtype\u001b[0m\u001b[1;33m=\u001b[0m\u001b[0mdtype\u001b[0m\u001b[1;33m)\u001b[0m\u001b[1;33m\u001b[0m\u001b[1;33m\u001b[0m\u001b[0m\n\u001b[0m\u001b[0;32m    186\u001b[0m         \u001b[1;32mreturn\u001b[0m \u001b[0mxp\u001b[0m\u001b[1;33m.\u001b[0m\u001b[0masarray\u001b[0m\u001b[1;33m(\u001b[0m\u001b[0marray\u001b[0m\u001b[1;33m,\u001b[0m \u001b[0mcopy\u001b[0m\u001b[1;33m=\u001b[0m\u001b[0mcopy\u001b[0m\u001b[1;33m)\u001b[0m\u001b[1;33m\u001b[0m\u001b[1;33m\u001b[0m\u001b[0m\n\u001b[0;32m    187\u001b[0m     \u001b[1;32melse\u001b[0m\u001b[1;33m:\u001b[0m\u001b[1;33m\u001b[0m\u001b[1;33m\u001b[0m\u001b[0m\n\u001b[0;32m    188\u001b[0m         \u001b[1;32mreturn\u001b[0m \u001b[0mxp\u001b[0m\u001b[1;33m.\u001b[0m\u001b[0masarray\u001b[0m\u001b[1;33m(\u001b[0m\u001b[0marray\u001b[0m\u001b[1;33m,\u001b[0m \u001b[0mdtype\u001b[0m\u001b[1;33m=\u001b[0m\u001b[0mdtype\u001b[0m\u001b[1;33m,\u001b[0m \u001b[0mcopy\u001b[0m\u001b[1;33m=\u001b[0m\u001b[0mcopy\u001b[0m\u001b[1;33m)\u001b[0m\u001b[1;33m\u001b[0m\u001b[1;33m\u001b[0m\u001b[0m\n",
            "\u001b[1;32mc:\\Users\\LENOVO\\AppData\\Local\\Programs\\Python\\Python311\\Lib\\site-packages\\pandas\\core\\generic.py\u001b[0m in \u001b[0;36m?\u001b[1;34m(self, dtype)\u001b[0m\n\u001b[0;32m   2069\u001b[0m     \u001b[1;32mdef\u001b[0m \u001b[0m__array__\u001b[0m\u001b[1;33m(\u001b[0m\u001b[0mself\u001b[0m\u001b[1;33m,\u001b[0m \u001b[0mdtype\u001b[0m\u001b[1;33m:\u001b[0m \u001b[0mnpt\u001b[0m\u001b[1;33m.\u001b[0m\u001b[0mDTypeLike\u001b[0m \u001b[1;33m|\u001b[0m \u001b[1;32mNone\u001b[0m \u001b[1;33m=\u001b[0m \u001b[1;32mNone\u001b[0m\u001b[1;33m)\u001b[0m \u001b[1;33m->\u001b[0m \u001b[0mnp\u001b[0m\u001b[1;33m.\u001b[0m\u001b[0mndarray\u001b[0m\u001b[1;33m:\u001b[0m\u001b[1;33m\u001b[0m\u001b[1;33m\u001b[0m\u001b[0m\n\u001b[1;32m-> 2070\u001b[1;33m         \u001b[1;32mreturn\u001b[0m \u001b[0mnp\u001b[0m\u001b[1;33m.\u001b[0m\u001b[0masarray\u001b[0m\u001b[1;33m(\u001b[0m\u001b[0mself\u001b[0m\u001b[1;33m.\u001b[0m\u001b[0m_values\u001b[0m\u001b[1;33m,\u001b[0m \u001b[0mdtype\u001b[0m\u001b[1;33m=\u001b[0m\u001b[0mdtype\u001b[0m\u001b[1;33m)\u001b[0m\u001b[1;33m\u001b[0m\u001b[1;33m\u001b[0m\u001b[0m\n\u001b[0m",
            "\u001b[1;31mValueError\u001b[0m: could not convert string to float: \"You Can Now Buy Signed Copies Of Steiner's New 'Tell All' F1 Book Formula1 F1 F1News Motorsport Formule1 wtf1.com/post/you-can-n...\""
          ]
        }
      ],
      "source": [
        "# Initialize and fit the preprocessing scaler on the training data\n",
        "scaler = StandardScaler()\n",
        "X_train_scaled = scaler.fit_transform(X_train)\n",
        "# Apply the same transformation to the test data\n",
        "X_test_scaled = scaler.transform(X_test)"
      ]
    }
  ],
  "metadata": {
    "colab": {
      "provenance": []
    },
    "kernelspec": {
      "display_name": "Python 3",
      "name": "python3"
    },
    "language_info": {
      "codemirror_mode": {
        "name": "ipython",
        "version": 3
      },
      "file_extension": ".py",
      "mimetype": "text/x-python",
      "name": "python",
      "nbconvert_exporter": "python",
      "pygments_lexer": "ipython3",
      "version": "3.11.1"
    }
  },
  "nbformat": 4,
  "nbformat_minor": 0
}
